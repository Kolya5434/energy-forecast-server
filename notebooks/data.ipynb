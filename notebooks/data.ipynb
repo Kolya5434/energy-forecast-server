{
 "cells": [
  {
   "cell_type": "code",
   "id": "initial_id",
   "metadata": {
    "collapsed": true,
    "ExecuteTime": {
     "end_time": "2025-10-11T07:51:41.044129Z",
     "start_time": "2025-10-11T07:51:40.710289Z"
    }
   },
   "source": "import pandas as pd",
   "outputs": [],
   "execution_count": 1
  },
  {
   "metadata": {
    "ExecuteTime": {
     "end_time": "2025-10-11T07:51:41.059129Z",
     "start_time": "2025-10-11T07:51:41.057539Z"
    }
   },
   "cell_type": "code",
   "source": [
    "# Шлях до вихідного файлу з даними\n",
    "input_file_path = '../data/household_power_consumption.txt'\n",
    "\n",
    "# Шлях, куди буде збережено очищений файл\n",
    "output_file_path = '../data/household_power_consumption_cleaned.csv'"
   ],
   "id": "da1b8d58922259bd",
   "outputs": [],
   "execution_count": 2
  },
  {
   "metadata": {
    "ExecuteTime": {
     "end_time": "2025-10-11T07:51:44.334162Z",
     "start_time": "2025-10-11T07:51:41.074199Z"
    }
   },
   "cell_type": "code",
   "source": [
    "print(\"ЕТАП 1: Завантаження даних...\")\n",
    "# Завантажуємо дані з усіма необхідними параметрами\n",
    "df = pd.read_csv(\n",
    "    input_file_path,\n",
    "    sep=';',\n",
    "    parse_dates={'DateTime': ['Date', 'Time']},\n",
    "    infer_datetime_format=True,\n",
    "    na_values=['?'],\n",
    "    low_memory=False\n",
    ")\n",
    "df.set_index('DateTime', inplace=True)\n",
    "print(f\"Дані завантажено. Початковий розмір: {df.shape[0]} рядків.\")\n",
    "print(\"-\" * 30)\n",
    "\n",
    "\n",
    "print(\"ЕТАП 2: Очищення від пропущених значень (NaN)...\")\n",
    "# Видаляємо всі рядки, де є пропущені значення\n",
    "df.dropna(inplace=True)\n",
    "print(f\"Розмір після видалення NaN: {df.shape[0]} рядків.\")\n",
    "print(\"-\" * 30)\n",
    "\n",
    "\n",
    "print(\"ЕТАП 3: Фільтрація нульових значень в 'Global_active_power'...\")\n",
    "# Залишаємо тільки ті рядки, де активна потужність більша за нуль\n",
    "df_filtered_step1 = df[df['Global_active_power'] > 0].copy()\n",
    "print(f\"Розмір після фільтрації 'Global_active_power': {df_filtered_step1.shape[0]} рядків.\")\n",
    "print(\"-\" * 30)\n",
    "\n",
    "\n",
    "print(\"ЕТАП 4: Фільтрація нульових значень в 'Sub_metering_1'...\")\n",
    "# Тепер з отриманого датасету прибираємо рядки, де Sub_metering_1 == 0\n",
    "df_cleaned = df_filtered_step1[df_filtered_step1['Sub_metering_1'] > 0].copy()\n",
    "print(f\"Фінальний розмір після фільтрації 'Sub_metering_1': {df_cleaned.shape[0]} рядків.\")\n",
    "print(\"-\" * 30)\n",
    "\n",
    "print(\"Очищення завершено успішно!\")"
   ],
   "id": "134c065caeb54801",
   "outputs": [
    {
     "name": "stdout",
     "output_type": "stream",
     "text": [
      "ЕТАП 1: Завантаження даних...\n"
     ]
    },
    {
     "name": "stderr",
     "output_type": "stream",
     "text": [
      "/var/folders/qx/qcg8gq_95sj0ckv67r12b2yw0000gn/T/ipykernel_28635/2840303007.py:3: FutureWarning: Support for nested sequences for 'parse_dates' in pd.read_csv is deprecated. Combine the desired columns with pd.to_datetime after parsing instead.\n",
      "  df = pd.read_csv(\n",
      "/var/folders/qx/qcg8gq_95sj0ckv67r12b2yw0000gn/T/ipykernel_28635/2840303007.py:3: FutureWarning: The argument 'infer_datetime_format' is deprecated and will be removed in a future version. A strict version of it is now the default, see https://pandas.pydata.org/pdeps/0004-consistent-to-datetime-parsing.html. You can safely remove this argument.\n",
      "  df = pd.read_csv(\n"
     ]
    },
    {
     "name": "stdout",
     "output_type": "stream",
     "text": [
      "Дані завантажено. Початковий розмір: 2075259 рядків.\n",
      "------------------------------\n",
      "ЕТАП 2: Очищення від пропущених значень (NaN)...\n",
      "Розмір після видалення NaN: 2049280 рядків.\n",
      "------------------------------\n",
      "ЕТАП 3: Фільтрація нульових значень в 'Global_active_power'...\n",
      "Розмір після фільтрації 'Global_active_power': 2049280 рядків.\n",
      "------------------------------\n",
      "ЕТАП 4: Фільтрація нульових значень в 'Sub_metering_1'...\n",
      "Фінальний розмір після фільтрації 'Sub_metering_1': 169105 рядків.\n",
      "------------------------------\n",
      "Очищення завершено успішно!\n"
     ]
    },
    {
     "name": "stderr",
     "output_type": "stream",
     "text": [
      "/var/folders/qx/qcg8gq_95sj0ckv67r12b2yw0000gn/T/ipykernel_28635/2840303007.py:3: UserWarning: Parsing dates in %d/%m/%Y %H:%M:%S format when dayfirst=False (the default) was specified. Pass `dayfirst=True` or specify a format to silence this warning.\n",
      "  df = pd.read_csv(\n"
     ]
    }
   ],
   "execution_count": 3
  },
  {
   "metadata": {
    "ExecuteTime": {
     "end_time": "2025-10-11T07:51:44.858017Z",
     "start_time": "2025-10-11T07:51:44.392832Z"
    }
   },
   "cell_type": "code",
   "source": [
    "print(f\"Збереження очищених даних у файл: {output_file_path}\")\n",
    "\n",
    "# Зберігаємо DataFrame у форматі CSV.\n",
    "# index=True зберігає наш 'DateTime' індекс у файлі.\n",
    "df_cleaned.to_csv(output_file_path, index=True)\n",
    "\n",
    "print(\"Файл успішно збережено!\")"
   ],
   "id": "9db4b0b04bc30c09",
   "outputs": [
    {
     "name": "stdout",
     "output_type": "stream",
     "text": [
      "Збереження очищених даних у файл: ../data/household_power_consumption_cleaned.csv\n",
      "Файл успішно збережено!\n"
     ]
    }
   ],
   "execution_count": 4
  },
  {
   "metadata": {
    "ExecuteTime": {
     "end_time": "2025-10-11T07:51:45.009240Z",
     "start_time": "2025-10-11T07:51:44.884296Z"
    }
   },
   "cell_type": "code",
   "source": [
    "print(\"Перевірка збереженого файлу...\")\n",
    "df_check = pd.read_csv(output_file_path, index_col='DateTime', parse_dates=True)\n",
    "\n",
    "print(\"Перші 5 рядків з нового файлу:\")\n",
    "display(df_check.head())\n",
    "\n",
    "print(\"\\nІнформація про дані в новому файлі:\")\n",
    "df_check.info()"
   ],
   "id": "5db10babb356e269",
   "outputs": [
    {
     "name": "stdout",
     "output_type": "stream",
     "text": [
      "Перевірка збереженого файлу...\n",
      "Перші 5 рядків з нового файлу:\n"
     ]
    },
    {
     "data": {
      "text/plain": [
       "                     Global_active_power  Global_reactive_power  Voltage  \\\n",
       "DateTime                                                                   \n",
       "2006-12-17 10:23:00                2.242                  0.162   237.33   \n",
       "2006-12-17 10:24:00                3.714                  0.296   235.15   \n",
       "2006-12-17 10:25:00                3.212                  0.304   235.99   \n",
       "2006-12-17 10:26:00                3.694                  0.280   235.16   \n",
       "2006-12-17 10:27:00                3.204                  0.292   236.08   \n",
       "\n",
       "                     Global_intensity  Sub_metering_1  Sub_metering_2  \\\n",
       "DateTime                                                                \n",
       "2006-12-17 10:23:00              10.0             1.0             7.0   \n",
       "2006-12-17 10:24:00              15.8             2.0            35.0   \n",
       "2006-12-17 10:25:00              14.2             1.0            26.0   \n",
       "2006-12-17 10:26:00              15.6             1.0            35.0   \n",
       "2006-12-17 10:27:00              14.0             1.0            27.0   \n",
       "\n",
       "                     Sub_metering_3  \n",
       "DateTime                             \n",
       "2006-12-17 10:23:00            17.0  \n",
       "2006-12-17 10:24:00            17.0  \n",
       "2006-12-17 10:25:00            17.0  \n",
       "2006-12-17 10:26:00            17.0  \n",
       "2006-12-17 10:27:00            17.0  "
      ],
      "text/html": [
       "<div>\n",
       "<style scoped>\n",
       "    .dataframe tbody tr th:only-of-type {\n",
       "        vertical-align: middle;\n",
       "    }\n",
       "\n",
       "    .dataframe tbody tr th {\n",
       "        vertical-align: top;\n",
       "    }\n",
       "\n",
       "    .dataframe thead th {\n",
       "        text-align: right;\n",
       "    }\n",
       "</style>\n",
       "<table border=\"1\" class=\"dataframe\">\n",
       "  <thead>\n",
       "    <tr style=\"text-align: right;\">\n",
       "      <th></th>\n",
       "      <th>Global_active_power</th>\n",
       "      <th>Global_reactive_power</th>\n",
       "      <th>Voltage</th>\n",
       "      <th>Global_intensity</th>\n",
       "      <th>Sub_metering_1</th>\n",
       "      <th>Sub_metering_2</th>\n",
       "      <th>Sub_metering_3</th>\n",
       "    </tr>\n",
       "    <tr>\n",
       "      <th>DateTime</th>\n",
       "      <th></th>\n",
       "      <th></th>\n",
       "      <th></th>\n",
       "      <th></th>\n",
       "      <th></th>\n",
       "      <th></th>\n",
       "      <th></th>\n",
       "    </tr>\n",
       "  </thead>\n",
       "  <tbody>\n",
       "    <tr>\n",
       "      <th>2006-12-17 10:23:00</th>\n",
       "      <td>2.242</td>\n",
       "      <td>0.162</td>\n",
       "      <td>237.33</td>\n",
       "      <td>10.0</td>\n",
       "      <td>1.0</td>\n",
       "      <td>7.0</td>\n",
       "      <td>17.0</td>\n",
       "    </tr>\n",
       "    <tr>\n",
       "      <th>2006-12-17 10:24:00</th>\n",
       "      <td>3.714</td>\n",
       "      <td>0.296</td>\n",
       "      <td>235.15</td>\n",
       "      <td>15.8</td>\n",
       "      <td>2.0</td>\n",
       "      <td>35.0</td>\n",
       "      <td>17.0</td>\n",
       "    </tr>\n",
       "    <tr>\n",
       "      <th>2006-12-17 10:25:00</th>\n",
       "      <td>3.212</td>\n",
       "      <td>0.304</td>\n",
       "      <td>235.99</td>\n",
       "      <td>14.2</td>\n",
       "      <td>1.0</td>\n",
       "      <td>26.0</td>\n",
       "      <td>17.0</td>\n",
       "    </tr>\n",
       "    <tr>\n",
       "      <th>2006-12-17 10:26:00</th>\n",
       "      <td>3.694</td>\n",
       "      <td>0.280</td>\n",
       "      <td>235.16</td>\n",
       "      <td>15.6</td>\n",
       "      <td>1.0</td>\n",
       "      <td>35.0</td>\n",
       "      <td>17.0</td>\n",
       "    </tr>\n",
       "    <tr>\n",
       "      <th>2006-12-17 10:27:00</th>\n",
       "      <td>3.204</td>\n",
       "      <td>0.292</td>\n",
       "      <td>236.08</td>\n",
       "      <td>14.0</td>\n",
       "      <td>1.0</td>\n",
       "      <td>27.0</td>\n",
       "      <td>17.0</td>\n",
       "    </tr>\n",
       "  </tbody>\n",
       "</table>\n",
       "</div>"
      ]
     },
     "metadata": {},
     "output_type": "display_data",
     "jetTransient": {
      "display_id": null
     }
    },
    {
     "name": "stdout",
     "output_type": "stream",
     "text": [
      "\n",
      "Інформація про дані в новому файлі:\n",
      "<class 'pandas.core.frame.DataFrame'>\n",
      "DatetimeIndex: 169105 entries, 2006-12-17 10:23:00 to 2010-11-26 09:47:00\n",
      "Data columns (total 7 columns):\n",
      " #   Column                 Non-Null Count   Dtype  \n",
      "---  ------                 --------------   -----  \n",
      " 0   Global_active_power    169105 non-null  float64\n",
      " 1   Global_reactive_power  169105 non-null  float64\n",
      " 2   Voltage                169105 non-null  float64\n",
      " 3   Global_intensity       169105 non-null  float64\n",
      " 4   Sub_metering_1         169105 non-null  float64\n",
      " 5   Sub_metering_2         169105 non-null  float64\n",
      " 6   Sub_metering_3         169105 non-null  float64\n",
      "dtypes: float64(7)\n",
      "memory usage: 10.3 MB\n"
     ]
    }
   ],
   "execution_count": 5
  }
 ],
 "metadata": {
  "kernelspec": {
   "display_name": "Python 3",
   "language": "python",
   "name": "python3"
  },
  "language_info": {
   "codemirror_mode": {
    "name": "ipython",
    "version": 2
   },
   "file_extension": ".py",
   "mimetype": "text/x-python",
   "name": "python",
   "nbconvert_exporter": "python",
   "pygments_lexer": "ipython2",
   "version": "2.7.6"
  }
 },
 "nbformat": 4,
 "nbformat_minor": 5
}
