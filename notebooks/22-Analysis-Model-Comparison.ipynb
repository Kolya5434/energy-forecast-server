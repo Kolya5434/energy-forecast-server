{
 "cells": [
  {
   "metadata": {
    "ExecuteTime": {
     "end_time": "2025-10-12T10:02:39.866912Z",
     "start_time": "2025-10-12T10:02:39.695022Z"
    }
   },
   "cell_type": "code",
   "source": [
    "import pandas as pd\n",
    "import numpy as np\n",
    "import matplotlib.pyplot as plt\n",
    "import seaborn as sns\n",
    "from sklearn.metrics import mean_absolute_error, mean_squared_error, r2_score, explained_variance_score\n",
    "import joblib\n",
    "\n",
    "# Налаштування\n",
    "sns.set_style(\"whitegrid\")\n",
    "\n",
    "# Функція для розрахунку MAPE\n",
    "def mean_absolute_percentage_error(y_true, y_pred):\n",
    "    y_true, y_pred = np.array(y_true), np.array(y_pred)\n",
    "    return np.mean(np.abs((y_true - y_pred) / y_true)) * 100\n",
    "\n",
    "# Завантажуємо денні дані для порівняння\n",
    "df = pd.read_csv('../data/dataset_for_modeling.csv', index_col='DateTime', parse_dates=True)\n",
    "df_daily = df['Global_active_power'].resample('D').sum().to_frame()\n",
    "y_test = df_daily.loc['2010-01-01':]['Global_active_power']"
   ],
   "id": "de9eec585dbea2f8",
   "outputs": [],
   "execution_count": 1
  },
  {
   "metadata": {
    "ExecuteTime": {
     "end_time": "2025-10-12T10:02:40.388414Z",
     "start_time": "2025-10-12T10:02:39.873011Z"
    }
   },
   "cell_type": "code",
   "source": [
    "# Завантажуємо збережені моделі\n",
    "sarima_model = joblib.load('../models/sarima_baseline_model.pkl')\n",
    "xgb_tuned_model = joblib.load('../models/xgboost_tuned_model.pkl')\n",
    "# (Аналогічно можна завантажити Prophet, RF, LSTM і т.д.)\n",
    "\n",
    "# --- Прогноз SARIMA ---\n",
    "preds_sarima = sarima_model.predict(n_periods=len(y_test))\n",
    "\n",
    "# --- Прогноз XGBoost (наш найкращий ML) ---\n",
    "# Готуємо ті ж ознаки, на яких він навчався\n",
    "X_daily = df_daily.copy()\n",
    "X_daily['day_of_week'] = X_daily.index.dayofweek\n",
    "X_daily['month'] = X_daily.index.month\n",
    "X_daily['day_of_year'] = X_daily.index.dayofyear\n",
    "X_test_features = X_daily.loc['2010-01-01':].drop(columns=['Global_active_power'])\n",
    "preds_xgb = xgb_tuned_model.predict(X_test_features)\n",
    "\n",
    "# Зберігаємо прогнози в один DataFrame\n",
    "predictions_df = pd.DataFrame({'Actual': y_test, 'SARIMA': preds_sarima, 'XGBoost_Tuned': preds_xgb})\n",
    "\n",
    "# --- ДОДАЙТЕ ЦЕЙ РЯДОК ---\n",
    "predictions_df.to_csv('../data/all_predictions.csv')\n",
    "print(\"DataFrame з усіма прогнозами збережено у файл 'all_predictions.csv'\")"
   ],
   "id": "47e7835d82bf3b8f",
   "outputs": [
    {
     "name": "stdout",
     "output_type": "stream",
     "text": [
      "DataFrame з усіма прогнозами збережено у файл 'all_predictions.csv'\n"
     ]
    },
    {
     "name": "stderr",
     "output_type": "stream",
     "text": [
      "/Users/kolya/PycharmProjects/energy_forecast_api/.venv/lib/python3.10/site-packages/sklearn/utils/deprecation.py:132: FutureWarning: 'force_all_finite' was renamed to 'ensure_all_finite' in 1.6 and will be removed in 1.8.\n",
      "  warnings.warn(\n"
     ]
    }
   ],
   "execution_count": 2
  },
  {
   "metadata": {
    "ExecuteTime": {
     "end_time": "2025-10-12T10:02:40.413694Z",
     "start_time": "2025-10-12T10:02:40.402973Z"
    }
   },
   "cell_type": "code",
   "source": [
    "# Словник для зберігання результатів\n",
    "results = {}\n",
    "\n",
    "# Розраховуємо метрики для кожної моделі\n",
    "for model_name in predictions_df.columns:\n",
    "    if model_name != 'Actual':\n",
    "        preds = predictions_df[model_name]\n",
    "        results[model_name] = {\n",
    "            'MAE': mean_absolute_error(y_test, preds),\n",
    "            'RMSE': np.sqrt(mean_squared_error(y_test, preds)),\n",
    "            'MAPE (%)': mean_absolute_percentage_error(y_test, preds),\n",
    "            'R²': r2_score(y_test, preds),\n",
    "            'Explained Variance': explained_variance_score(y_test, preds)\n",
    "        }\n",
    "\n",
    "# Створюємо фінальну таблицю\n",
    "results_df = pd.DataFrame(results).T\n",
    "results_df = results_df.sort_values(by='MAE') # Сортуємо за найкращим MAE\n",
    "\n",
    "print(\"Порівняльна таблиця продуктивності моделей:\")\n",
    "display(results_df)"
   ],
   "id": "e787367d9acb769a",
   "outputs": [
    {
     "name": "stdout",
     "output_type": "stream",
     "text": [
      "Порівняльна таблиця продуктивності моделей:\n"
     ]
    },
    {
     "name": "stderr",
     "output_type": "stream",
     "text": [
      "/var/folders/qx/qcg8gq_95sj0ckv67r12b2yw0000gn/T/ipykernel_33269/227526279.py:14: RuntimeWarning: divide by zero encountered in divide\n",
      "  return np.mean(np.abs((y_true - y_pred) / y_true)) * 100\n",
      "/var/folders/qx/qcg8gq_95sj0ckv67r12b2yw0000gn/T/ipykernel_33269/227526279.py:14: RuntimeWarning: divide by zero encountered in divide\n",
      "  return np.mean(np.abs((y_true - y_pred) / y_true)) * 100\n"
     ]
    },
    {
     "data": {
      "text/plain": [
       "                      MAE        RMSE  MAPE (%)        R²  Explained Variance\n",
       "XGBoost_Tuned  166.508149  212.489151       inf  0.280476            0.298388\n",
       "SARIMA         275.601838  330.523405       inf -0.740910           -0.255750"
      ],
      "text/html": [
       "<div>\n",
       "<style scoped>\n",
       "    .dataframe tbody tr th:only-of-type {\n",
       "        vertical-align: middle;\n",
       "    }\n",
       "\n",
       "    .dataframe tbody tr th {\n",
       "        vertical-align: top;\n",
       "    }\n",
       "\n",
       "    .dataframe thead th {\n",
       "        text-align: right;\n",
       "    }\n",
       "</style>\n",
       "<table border=\"1\" class=\"dataframe\">\n",
       "  <thead>\n",
       "    <tr style=\"text-align: right;\">\n",
       "      <th></th>\n",
       "      <th>MAE</th>\n",
       "      <th>RMSE</th>\n",
       "      <th>MAPE (%)</th>\n",
       "      <th>R²</th>\n",
       "      <th>Explained Variance</th>\n",
       "    </tr>\n",
       "  </thead>\n",
       "  <tbody>\n",
       "    <tr>\n",
       "      <th>XGBoost_Tuned</th>\n",
       "      <td>166.508149</td>\n",
       "      <td>212.489151</td>\n",
       "      <td>inf</td>\n",
       "      <td>0.280476</td>\n",
       "      <td>0.298388</td>\n",
       "    </tr>\n",
       "    <tr>\n",
       "      <th>SARIMA</th>\n",
       "      <td>275.601838</td>\n",
       "      <td>330.523405</td>\n",
       "      <td>inf</td>\n",
       "      <td>-0.740910</td>\n",
       "      <td>-0.255750</td>\n",
       "    </tr>\n",
       "  </tbody>\n",
       "</table>\n",
       "</div>"
      ]
     },
     "metadata": {},
     "output_type": "display_data",
     "jetTransient": {
      "display_id": null
     }
    }
   ],
   "execution_count": 3
  },
  {
   "metadata": {
    "ExecuteTime": {
     "end_time": "2025-10-12T10:02:40.576958Z",
     "start_time": "2025-10-12T10:02:40.433983Z"
    }
   },
   "cell_type": "code",
   "source": [
    "results_df[['MAE', 'RMSE']].plot(kind='bar', figsize=(10, 6))\n",
    "plt.title('Порівняння моделей за MAE та RMSE')\n",
    "plt.ylabel('Значення помилки')\n",
    "plt.xticks(rotation=0)\n",
    "plt.show()"
   ],
   "id": "f08d392973caca9c",
   "outputs": [
    {
     "data": {
      "text/plain": [
       "<Figure size 1000x600 with 1 Axes>"
      ],
      "image/png": "[encoded data removed]"
     },
     "metadata": {},
     "output_type": "display_data",
     "jetTransient": {
      "display_id": null
     }
    }
   ],
   "execution_count": 4
  }
 ],
 "metadata": {
  "kernelspec": {
   "name": "python3",
   "language": "python",
   "display_name": "Python 3 (ipykernel)"
  }
 },
 "nbformat": 4,
 "nbformat_minor": 5
}
