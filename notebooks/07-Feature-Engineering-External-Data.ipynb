{
 "cells": [
  {
   "cell_type": "code",
   "id": "initial_id",
   "metadata": {
    "collapsed": true,
    "ExecuteTime": {
     "end_time": "2025-10-11T16:40:32.905227Z",
     "start_time": "2025-10-11T16:40:32.865505Z"
    }
   },
   "source": [
    "import pandas as pd\n",
    "import holidays\n",
    "\n",
    "# Завантажуємо датасет\n",
    "final_features_path = '../data/final_features_dataset.csv'\n",
    "df = pd.read_csv(final_features_path, index_col='DateTime', parse_dates=True)\n",
    "\n",
    "# Створюємо словник свят для Франції\n",
    "french_holidays = holidays.France(years=range(2006, 2011))\n",
    "\n",
    "\n",
    "df['is_holiday'] = df.index.map(lambda d: d.date() in french_holidays).astype(int)\n",
    "\n",
    "print(f\"Знайдено {df['is_holiday'].sum()} годин, що припадають на святкові дні.\")\n",
    "\n",
    "\n",
    "print(\"\\nПриклад даних на День взяття Бастилії (14 липня 2008):\")\n",
    "display(df.loc['2008-07-14 10:00:00':'2008-07-14 15:00:00'])\n",
    "\n",
    "# Перевіримо, чи правильно виставилась ознака 'is_holiday'\n",
    "print(\"\\nПеревірка значення 'is_holiday' для цього свята:\")\n",
    "display(df.loc['2008-07-14 10:00:00':'2008-07-14 15:00:00'][['is_holiday', 'Global_active_power']])"
   ],
   "outputs": [
    {
     "name": "stdout",
     "output_type": "stream",
     "text": [
      "Знайдено 172 годин, що припадають на святкові дні.\n",
      "\n",
      "Приклад даних на День взяття Бастилії (14 липня 2008):\n"
     ]
    },
    {
     "data": {
      "text/plain": [
       "Empty DataFrame\n",
       "Columns: [Global_active_power, Global_reactive_power, Voltage, Global_intensity, Sub_metering_1, Sub_metering_2, Sub_metering_3, is_anomaly, hour, day_of_week, day_of_month, day_of_year, week_of_year, month, year, quarter, is_weekend, Global_active_power_lag_1, Global_active_power_lag_2, Global_active_power_lag_3, Global_active_power_lag_24, Global_active_power_lag_48, Global_active_power_lag_168, Global_active_power_roll_mean_3, Global_active_power_roll_std_3, Global_active_power_roll_mean_6, Global_active_power_roll_std_6, Global_active_power_roll_mean_12, Global_active_power_roll_std_12, Global_active_power_roll_mean_24, Global_active_power_roll_std_24, Global_active_power_roll_mean_168, Global_active_power_roll_std_168, is_holiday]\n",
       "Index: []\n",
       "\n",
       "[0 rows x 34 columns]"
      ],
      "text/html": [
       "<div>\n",
       "<style scoped>\n",
       "    .dataframe tbody tr th:only-of-type {\n",
       "        vertical-align: middle;\n",
       "    }\n",
       "\n",
       "    .dataframe tbody tr th {\n",
       "        vertical-align: top;\n",
       "    }\n",
       "\n",
       "    .dataframe thead th {\n",
       "        text-align: right;\n",
       "    }\n",
       "</style>\n",
       "<table border=\"1\" class=\"dataframe\">\n",
       "  <thead>\n",
       "    <tr style=\"text-align: right;\">\n",
       "      <th></th>\n",
       "      <th>Global_active_power</th>\n",
       "      <th>Global_reactive_power</th>\n",
       "      <th>Voltage</th>\n",
       "      <th>Global_intensity</th>\n",
       "      <th>Sub_metering_1</th>\n",
       "      <th>Sub_metering_2</th>\n",
       "      <th>Sub_metering_3</th>\n",
       "      <th>is_anomaly</th>\n",
       "      <th>hour</th>\n",
       "      <th>day_of_week</th>\n",
       "      <th>...</th>\n",
       "      <th>Global_active_power_roll_std_3</th>\n",
       "      <th>Global_active_power_roll_mean_6</th>\n",
       "      <th>Global_active_power_roll_std_6</th>\n",
       "      <th>Global_active_power_roll_mean_12</th>\n",
       "      <th>Global_active_power_roll_std_12</th>\n",
       "      <th>Global_active_power_roll_mean_24</th>\n",
       "      <th>Global_active_power_roll_std_24</th>\n",
       "      <th>Global_active_power_roll_mean_168</th>\n",
       "      <th>Global_active_power_roll_std_168</th>\n",
       "      <th>is_holiday</th>\n",
       "    </tr>\n",
       "    <tr>\n",
       "      <th>DateTime</th>\n",
       "      <th></th>\n",
       "      <th></th>\n",
       "      <th></th>\n",
       "      <th></th>\n",
       "      <th></th>\n",
       "      <th></th>\n",
       "      <th></th>\n",
       "      <th></th>\n",
       "      <th></th>\n",
       "      <th></th>\n",
       "      <th></th>\n",
       "      <th></th>\n",
       "      <th></th>\n",
       "      <th></th>\n",
       "      <th></th>\n",
       "      <th></th>\n",
       "      <th></th>\n",
       "      <th></th>\n",
       "      <th></th>\n",
       "      <th></th>\n",
       "      <th></th>\n",
       "    </tr>\n",
       "  </thead>\n",
       "  <tbody>\n",
       "  </tbody>\n",
       "</table>\n",
       "<p>0 rows × 34 columns</p>\n",
       "</div>"
      ]
     },
     "metadata": {},
     "output_type": "display_data",
     "jetTransient": {
      "display_id": null
     }
    },
    {
     "name": "stdout",
     "output_type": "stream",
     "text": [
      "\n",
      "Перевірка значення 'is_holiday' для цього свята:\n"
     ]
    },
    {
     "data": {
      "text/plain": [
       "Empty DataFrame\n",
       "Columns: [is_holiday, Global_active_power]\n",
       "Index: []"
      ],
      "text/html": [
       "<div>\n",
       "<style scoped>\n",
       "    .dataframe tbody tr th:only-of-type {\n",
       "        vertical-align: middle;\n",
       "    }\n",
       "\n",
       "    .dataframe tbody tr th {\n",
       "        vertical-align: top;\n",
       "    }\n",
       "\n",
       "    .dataframe thead th {\n",
       "        text-align: right;\n",
       "    }\n",
       "</style>\n",
       "<table border=\"1\" class=\"dataframe\">\n",
       "  <thead>\n",
       "    <tr style=\"text-align: right;\">\n",
       "      <th></th>\n",
       "      <th>is_holiday</th>\n",
       "      <th>Global_active_power</th>\n",
       "    </tr>\n",
       "    <tr>\n",
       "      <th>DateTime</th>\n",
       "      <th></th>\n",
       "      <th></th>\n",
       "    </tr>\n",
       "  </thead>\n",
       "  <tbody>\n",
       "  </tbody>\n",
       "</table>\n",
       "</div>"
      ]
     },
     "metadata": {},
     "output_type": "display_data",
     "jetTransient": {
      "display_id": null
     }
    }
   ],
   "execution_count": 4
  },
  {
   "metadata": {
    "ExecuteTime": {
     "end_time": "2025-10-11T16:40:33.077507Z",
     "start_time": "2025-10-11T16:40:32.974923Z"
    }
   },
   "cell_type": "code",
   "source": [
    "from matplotlib import pyplot as plt\n",
    "import numpy as np\n",
    "\n",
    "def generate_mock_weather_data(df_input):\n",
    "    \"\"\"\n",
    "    Симулює реалістичні погодні дані для Франції.\n",
    "    \"\"\"\n",
    "    df = df_input.copy()\n",
    "    # Створюємо сезонну хвилю для температури (холодно взимку, тепло влітку)\n",
    "    # df.index.dayofyear - це день року від 1 до 366\n",
    "    base_temp = 12.5 # Середня температура в Парижі\n",
    "    amplitude = 10 # Амплітуда коливань\n",
    "\n",
    "    # Косинусна хвиля для імітації річних коливань температури\n",
    "    df['temperature'] = base_temp - np.cos((df.index.dayofyear - 15) * 2 * np.pi / 365.25) * amplitude\n",
    "\n",
    "    # Додаємо трохи випадкового шуму\n",
    "    df['temperature'] += np.random.normal(0, 2, len(df))\n",
    "\n",
    "    # Імітуємо вологість та швидкість вітру\n",
    "    df['humidity'] = 70 + np.random.normal(0, 10, len(df))\n",
    "    df['wind_speed'] = 5 + np.random.normal(0, 2, len(df))\n",
    "\n",
    "    return df\n",
    "\n",
    "# Генеруємо та приєднуємо погодні дані\n",
    "df_with_weather = generate_mock_weather_data(df)\n",
    "\n",
    "print(\"Перші 5 рядків з симульованими погодними даними:\")\n",
    "display(df_with_weather[['temperature', 'humidity', 'wind_speed']].head())\n",
    "\n",
    "# Візуалізуємо симульовану температуру за рік\n",
    "df_with_weather['temperature'].resample('D').mean().plot()\n",
    "plt.title('Симульована середньодобова температура за весь період')\n",
    "plt.ylabel('Температура (°C)')\n",
    "plt.show()"
   ],
   "id": "2348291947e2fce1",
   "outputs": [
    {
     "name": "stdout",
     "output_type": "stream",
     "text": [
      "Перші 5 рядків з симульованими погодними даними:\n"
     ]
    },
    {
     "data": {
      "text/plain": [
       "                     temperature   humidity  wind_speed\n",
       "DateTime                                               \n",
       "2006-12-24 15:00:00     1.845061  85.775188    4.544693\n",
       "2006-12-24 16:00:00     3.482138  44.347747    8.570005\n",
       "2006-12-25 11:00:00     3.679528  86.284472    7.477884\n",
       "2006-12-25 12:00:00     5.943542  78.477735    3.966380\n",
       "2006-12-25 13:00:00     4.179815  65.002419    4.257566"
      ],
      "text/html": [
       "<div>\n",
       "<style scoped>\n",
       "    .dataframe tbody tr th:only-of-type {\n",
       "        vertical-align: middle;\n",
       "    }\n",
       "\n",
       "    .dataframe tbody tr th {\n",
       "        vertical-align: top;\n",
       "    }\n",
       "\n",
       "    .dataframe thead th {\n",
       "        text-align: right;\n",
       "    }\n",
       "</style>\n",
       "<table border=\"1\" class=\"dataframe\">\n",
       "  <thead>\n",
       "    <tr style=\"text-align: right;\">\n",
       "      <th></th>\n",
       "      <th>temperature</th>\n",
       "      <th>humidity</th>\n",
       "      <th>wind_speed</th>\n",
       "    </tr>\n",
       "    <tr>\n",
       "      <th>DateTime</th>\n",
       "      <th></th>\n",
       "      <th></th>\n",
       "      <th></th>\n",
       "    </tr>\n",
       "  </thead>\n",
       "  <tbody>\n",
       "    <tr>\n",
       "      <th>2006-12-24 15:00:00</th>\n",
       "      <td>1.845061</td>\n",
       "      <td>85.775188</td>\n",
       "      <td>4.544693</td>\n",
       "    </tr>\n",
       "    <tr>\n",
       "      <th>2006-12-24 16:00:00</th>\n",
       "      <td>3.482138</td>\n",
       "      <td>44.347747</td>\n",
       "      <td>8.570005</td>\n",
       "    </tr>\n",
       "    <tr>\n",
       "      <th>2006-12-25 11:00:00</th>\n",
       "      <td>3.679528</td>\n",
       "      <td>86.284472</td>\n",
       "      <td>7.477884</td>\n",
       "    </tr>\n",
       "    <tr>\n",
       "      <th>2006-12-25 12:00:00</th>\n",
       "      <td>5.943542</td>\n",
       "      <td>78.477735</td>\n",
       "      <td>3.966380</td>\n",
       "    </tr>\n",
       "    <tr>\n",
       "      <th>2006-12-25 13:00:00</th>\n",
       "      <td>4.179815</td>\n",
       "      <td>65.002419</td>\n",
       "      <td>4.257566</td>\n",
       "    </tr>\n",
       "  </tbody>\n",
       "</table>\n",
       "</div>"
      ]
     },
     "metadata": {},
     "output_type": "display_data",
     "jetTransient": {
      "display_id": null
     }
    },
    {
     "data": {
      "text/plain": [
       "<Figure size 640x480 with 1 Axes>"
      ],
      "image/png": "[encoded data removed]"
     },
     "metadata": {},
     "output_type": "display_data",
     "jetTransient": {
      "display_id": null
     }
    }
   ],
   "execution_count": 5
  },
  {
   "metadata": {
    "ExecuteTime": {
     "end_time": "2025-10-11T16:40:33.158740Z",
     "start_time": "2025-10-11T16:40:33.086466Z"
    }
   },
   "cell_type": "code",
   "source": [
    "# Зберігаємо фінальний DataFrame\n",
    "output_path = '../data/dataset_for_modeling.csv'\n",
    "df_with_weather.to_csv(output_path)\n",
    "\n",
    "print(f\"Фінальний датасет з усіма ознаками успішно збережено в: {output_path}\")"
   ],
   "id": "190ced7c50b2ae8e",
   "outputs": [
    {
     "name": "stdout",
     "output_type": "stream",
     "text": [
      "Фінальний датасет з усіма ознаками успішно збережено в: ../data/dataset_for_modeling.csv\n"
     ]
    }
   ],
   "execution_count": 6
  }
 ],
 "metadata": {
  "kernelspec": {
   "display_name": "Python 3",
   "language": "python",
   "name": "python3"
  },
  "language_info": {
   "codemirror_mode": {
    "name": "ipython",
    "version": 2
   },
   "file_extension": ".py",
   "mimetype": "text/x-python",
   "name": "python",
   "nbconvert_exporter": "python",
   "pygments_lexer": "ipython2",
   "version": "2.7.6"
  }
 },
 "nbformat": 4,
 "nbformat_minor": 5
}
