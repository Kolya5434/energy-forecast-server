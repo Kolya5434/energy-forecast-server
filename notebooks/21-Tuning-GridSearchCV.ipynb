{
 "cells": [
  {
   "metadata": {
    "ExecuteTime": {
     "end_time": "2025-10-12T09:39:26.333516Z",
     "start_time": "2025-10-12T09:39:26.142440Z"
    }
   },
   "cell_type": "code",
   "source": [
    "import pandas as pd\n",
    "import numpy as np\n",
    "import xgboost as xgb\n",
    "from sklearn.model_selection import TimeSeriesSplit, GridSearchCV\n",
    "import joblib\n",
    "\n",
    "# Завантажуємо денні дані та створюємо ознаки\n",
    "df = pd.read_csv('../data/dataset_for_modeling.csv', index_col='DateTime', parse_dates=True)\n",
    "df_daily = df['Global_active_power'].resample('D').sum().to_frame()\n",
    "df_daily['day_of_week'] = df_daily.index.dayofweek\n",
    "df_daily['month'] = df_daily.index.month\n",
    "df_daily['day_of_year'] = df_daily.index.dayofyear\n",
    "\n",
    "X = df_daily.drop(columns=['Global_active_power'])\n",
    "y = df_daily['Global_active_power']\n",
    "\n",
    "print(\"Дані для підбору гіперпараметрів готові.\")"
   ],
   "id": "56b2587d5ceab12c",
   "outputs": [
    {
     "name": "stdout",
     "output_type": "stream",
     "text": [
      "Дані для підбору гіперпараметрів готові.\n"
     ]
    }
   ],
   "execution_count": 1
  },
  {
   "metadata": {
    "ExecuteTime": {
     "end_time": "2025-10-12T09:39:26.339525Z",
     "start_time": "2025-10-12T09:39:26.336855Z"
    }
   },
   "cell_type": "code",
   "source": [
    "# 1. Визначаємо сітку параметрів, які хочемо перевірити\n",
    "# У реальному проєкті тут буде набагато більше значень\n",
    "param_grid = {\n",
    "    'n_estimators': [100, 300],\n",
    "    'max_depth': [3, 5],\n",
    "    'learning_rate': [0.05, 0.1]\n",
    "}\n",
    "\n",
    "# 2. Ініціалізуємо модель\n",
    "model = xgb.XGBRegressor(random_state=42)\n",
    "\n",
    "# 3. Ініціалізуємо TimeSeriesSplit для використання всередині GridSearchCV\n",
    "tscv = TimeSeriesSplit(n_splits=3)\n",
    "\n",
    "# 4. Створюємо об'єкт GridSearchCV\n",
    "# scoring='neg_mean_absolute_error' - ми шукаємо мінімальну помилку, тому використовуємо негативне значення\n",
    "grid_search = GridSearchCV(estimator=model,\n",
    "                           param_grid=param_grid,\n",
    "                           scoring='neg_mean_absolute_error',\n",
    "                           n_jobs=-1,\n",
    "                           cv=tscv,\n",
    "                           verbose=2) # verbose=2 буде показувати детальний прогрес\n",
    "\n",
    "print(\"GridSearchCV налаштовано. Починаємо пошук...\")"
   ],
   "id": "9d9234cd0384a8c7",
   "outputs": [
    {
     "name": "stdout",
     "output_type": "stream",
     "text": [
      "GridSearchCV налаштовано. Починаємо пошук...\n"
     ]
    }
   ],
   "execution_count": 2
  },
  {
   "metadata": {
    "ExecuteTime": {
     "end_time": "2025-10-12T09:39:28.030707Z",
     "start_time": "2025-10-12T09:39:26.348468Z"
    }
   },
   "cell_type": "code",
   "source": [
    "# Запускаємо пошук найкращих параметрів\n",
    "grid_search.fit(X, y)\n",
    "\n",
    "print(\"\\n--- Результати підбору гіперпараметрів ---\")\n",
    "print(f\"Найкращі параметри: {grid_search.best_params_}\")\n",
    "# Результат grid_search.best_score_ буде від'ємним, тому беремо модуль\n",
    "print(f\"Найкращий MAE (на крос-валідації): {-grid_search.best_score_:.2f}\")"
   ],
   "id": "aa15bd81031c77e6",
   "outputs": [
    {
     "name": "stdout",
     "output_type": "stream",
     "text": [
      "Fitting 3 folds for each of 8 candidates, totalling 24 fits\n",
      "[CV] END ..learning_rate=0.05, max_depth=3, n_estimators=100; total time=   0.0s\n",
      "[CV] END ..learning_rate=0.05, max_depth=3, n_estimators=100; total time=   0.0s\n",
      "[CV] END ..learning_rate=0.05, max_depth=3, n_estimators=300; total time=   0.0s\n",
      "[CV] END ..learning_rate=0.05, max_depth=3, n_estimators=100; total time=   0.0s\n",
      "[CV] END ..learning_rate=0.05, max_depth=5, n_estimators=100; total time=   0.0s\n",
      "[CV] END ..learning_rate=0.05, max_depth=5, n_estimators=100; total time=   0.0s\n",
      "[CV] END ..learning_rate=0.05, max_depth=5, n_estimators=300; total time=   0.0s\n",
      "[CV] END ...learning_rate=0.1, max_depth=3, n_estimators=100; total time=   0.0s\n",
      "[CV] END ..learning_rate=0.05, max_depth=5, n_estimators=100; total time=   0.0s\n",
      "[CV] END ...learning_rate=0.1, max_depth=3, n_estimators=100; total time=   0.0s\n",
      "[CV] END ...learning_rate=0.1, max_depth=3, n_estimators=100; total time=   0.0s\n",
      "[CV] END ..learning_rate=0.05, max_depth=3, n_estimators=300; total time=   0.0s\n",
      "[CV] END ...learning_rate=0.1, max_depth=3, n_estimators=300; total time=   0.0s\n",
      "[CV] END ...learning_rate=0.1, max_depth=3, n_estimators=300; total time=   0.0s\n",
      "[CV] END ...learning_rate=0.1, max_depth=3, n_estimators=300; total time=   0.0s\n",
      "[CV] END ..learning_rate=0.05, max_depth=5, n_estimators=300; total time=   0.1s\n",
      "[CV] END ...learning_rate=0.1, max_depth=5, n_estimators=100; total time=   0.0s\n",
      "[CV] END ...learning_rate=0.1, max_depth=5, n_estimators=100; total time=   0.0s\n",
      "[CV] END ...learning_rate=0.1, max_depth=5, n_estimators=100; total time=   0.0s\n",
      "[CV] END ..learning_rate=0.05, max_depth=3, n_estimators=300; total time=   0.0s\n",
      "[CV] END ...learning_rate=0.1, max_depth=5, n_estimators=300; total time=   0.0s\n",
      "[CV] END ..learning_rate=0.05, max_depth=5, n_estimators=300; total time=   0.0s\n",
      "[CV] END ...learning_rate=0.1, max_depth=5, n_estimators=300; total time=   0.0s\n",
      "[CV] END ...learning_rate=0.1, max_depth=5, n_estimators=300; total time=   0.0s\n",
      "\n",
      "--- Результати підбору гіперпараметрів ---\n",
      "Найкращі параметри: {'learning_rate': 0.05, 'max_depth': 3, 'n_estimators': 100}\n",
      "Найкращий MAE (на крос-валідації): 192.09\n"
     ]
    }
   ],
   "execution_count": 3
  },
  {
   "metadata": {
    "ExecuteTime": {
     "end_time": "2025-10-12T09:39:31.184251Z",
     "start_time": "2025-10-12T09:39:31.180902Z"
    }
   },
   "cell_type": "code",
   "source": [
    "# Найкраща модель доступна в атрибуті best_estimator_\n",
    "best_model = grid_search.best_estimator_\n",
    "\n",
    "# Зберігаємо її\n",
    "joblib.dump(best_model, '../models/xgboost_tuned_model.pkl')\n",
    "\n",
    "print(\"\\nНайкраща, натюнена модель XGBoost успішно збережена.\")"
   ],
   "id": "7bb82f4827681a25",
   "outputs": [
    {
     "name": "stdout",
     "output_type": "stream",
     "text": [
      "\n",
      "Найкраща, натюнена модель XGBoost успішно збережена.\n"
     ]
    }
   ],
   "execution_count": 4
  }
 ],
 "metadata": {
  "kernelspec": {
   "name": "python3",
   "language": "python",
   "display_name": "Python 3 (ipykernel)"
  }
 },
 "nbformat": 4,
 "nbformat_minor": 5
}
